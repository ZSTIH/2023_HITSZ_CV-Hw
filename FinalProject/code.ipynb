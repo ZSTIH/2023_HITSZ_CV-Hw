{
 "cells": [
  {
   "attachments": {},
   "cell_type": "markdown",
   "metadata": {},
   "source": [
    "# 基于卷积神经网络 (CNN) 的图像分类任务\n",
    "- 数据集：MNIST\n",
    "- 深度学习框架：PyTorch"
   ]
  },
  {
   "cell_type": "code",
   "execution_count": null,
   "metadata": {},
   "outputs": [],
   "source": [
    "import torch\n",
    "import torch.nn as nn\n",
    "import torchvision.transforms as transforms\n",
    "import torch.optim as optim\n",
    "import matplotlib.pyplot as plt\n",
    "from torchvision.datasets import MNIST\n",
    "from torch.utils.data.dataloader import DataLoader\n",
    "from torch.utils.data import random_split\n",
    "\n",
    "SEED = 2023\n",
    "torch.manual_seed(SEED) # 设置随机种子，便于复现结果\n",
    "\n",
    "BATCH_SIZE = 64\n",
    "EPOCH_NUM = 20"
   ]
  },
  {
   "attachments": {},
   "cell_type": "markdown",
   "metadata": {},
   "source": [
    "## 1 数据准备"
   ]
  },
  {
   "cell_type": "code",
   "execution_count": null,
   "metadata": {},
   "outputs": [],
   "source": [
    "# 先将 PIL 图像的像素值由 [0, 255] 归一化为 [0,1]\n",
    "# 再进行均值为 0.1307 、标准差为 0.3081 的标准化\n",
    "transform = transforms.Compose(\n",
    "    [transforms.ToTensor(),\n",
    "     transforms.Normalize((0.1307,), (0.3081,))]\n",
    ")\n",
    "\n",
    "# 加载训练集数据，并划分出验证集\n",
    "train_set = MNIST(root='./data', train=True, download=True, transform=transform)\n",
    "val_size = int(0.1 * len(train_set)) # 选取其中的 1/10 作为验证集\n",
    "train_set, val_set = random_split(train_set, [len(train_set) - val_size, val_size], generator=torch.Generator().manual_seed(SEED))\n",
    "train_loader = DataLoader(train_set, batch_size=BATCH_SIZE, shuffle=True, num_workers=0)\n",
    "val_loader = DataLoader(val_set, batch_size=BATCH_SIZE, shuffle=True, num_workers=0)\n",
    "\n",
    "# 加载测试集数据\n",
    "test_set = MNIST(root='./data', train=False, download=True, transform=transform)\n",
    "test_loader = DataLoader(test_set, batch_size=BATCH_SIZE, shuffle=True, num_workers=0)\n",
    "print(f\"train_size = {len(train_set)}\")\n",
    "print(f\"val_size = {len(val_set)}\")\n",
    "print(f\"test_size = {len(test_set)}\")"
   ]
  },
  {
   "attachments": {},
   "cell_type": "markdown",
   "metadata": {},
   "source": [
    "## 2 模型构建"
   ]
  },
  {
   "cell_type": "code",
   "execution_count": null,
   "metadata": {},
   "outputs": [],
   "source": [
    "class MyCNN(nn.Module):\n",
    "    def __init__(self, *args, **kwargs) -> None:\n",
    "        super().__init__(*args, **kwargs)\n",
    "        # 特征提取层\n",
    "        self.features = nn.Sequential(\n",
    "            nn.Conv2d(1, 64, kernel_size=3, padding=1),\n",
    "            nn.ReLU(inplace=True),\n",
    "            nn.Conv2d(64, 64, kernel_size=3, padding=1),\n",
    "            nn.ReLU(inplace=True),\n",
    "            nn.MaxPool2d(kernel_size=2, stride=2),\n",
    "            nn.Conv2d(64, 128, kernel_size=3, padding=1),\n",
    "            nn.ReLU(inplace=True),\n",
    "            nn.Conv2d(128, 128, kernel_size=3, padding=1),\n",
    "            nn.ReLU(inplace=True),\n",
    "            nn.MaxPool2d(kernel_size=2, stride=2),\n",
    "        )\n",
    "        # 分类器层\n",
    "        self.classifier = nn.Sequential(\n",
    "            nn.Linear(128 * 7 * 7, 512),\n",
    "            nn.ReLU(inplace=True),\n",
    "            nn.Dropout(),\n",
    "            nn.Linear(512, 512),\n",
    "            nn.ReLU(inplace=True),\n",
    "            nn.Dropout(),\n",
    "            nn.Linear(512, 10)\n",
    "        )\n",
    "\n",
    "    def forward(self, x):\n",
    "        x = self.features(x) # 特征提取层的前向传播\n",
    "        x = x.view(x.size(0), -1) # 将输入张量x进行形状变换，将其从多维的特征图展平为一维向量，以便输入到全连接层进行分类任务\n",
    "        x = self.classifier(x) # 分类器层的前向传播\n",
    "        return x"
   ]
  },
  {
   "attachments": {},
   "cell_type": "markdown",
   "metadata": {},
   "source": [
    "## 3 模型训练与评估"
   ]
  },
  {
   "cell_type": "code",
   "execution_count": null,
   "metadata": {},
   "outputs": [],
   "source": [
    "# 定义一个函数，用于在验证集或测试集上进行评估\n",
    "def eval_model(net, epoch, acc_list, is_validation=True, is_print=True):\n",
    "    net.eval()\n",
    "    if is_validation == True:\n",
    "        eval_loader = val_loader # 使用验证集数据加载器\n",
    "    else:\n",
    "        eval_loader = test_loader # 使用测试集数据加载器\n",
    "    with torch.no_grad():\n",
    "        correct = 0\n",
    "        total = 0\n",
    "        for imgs, labels in eval_loader: # 遍历验证数据集或测试数据集\n",
    "            ouputs = net(imgs) # 前向传播计算输出\n",
    "            _, predicted = torch.max(ouputs.data, 1) # 获取预测类别\n",
    "            total += labels.size(0) # 累加样本数量\n",
    "            correct += (predicted == labels).sum().item() # 累加正确分类的样本数量\n",
    "        acc = correct / total\n",
    "        acc_list.append(acc)\n",
    "        if is_print == True:\n",
    "            if is_validation == True:\n",
    "                print(f\"epoch {epoch} over, val_acc = {acc}\")\n",
    "            else:\n",
    "                print(f\"epoch {epoch} over, test_acc = {acc}\")"
   ]
  },
  {
   "cell_type": "code",
   "execution_count": null,
   "metadata": {},
   "outputs": [],
   "source": [
    "net = MyCNN() # 创建自定义CNN模型的实例\n",
    "criterion = nn.CrossEntropyLoss() # 定义交叉熵损失函数\n",
    "optimizer = optim.SGD(net.parameters(), lr=0.01) # 定义随机梯度下降（SGD）优化器，将模型参数传递给优化器进行优化\n",
    "\n",
    "epoch_loss_list = [] # 记录每个epoch的损失值\n",
    "val_acc_list = [] # 记录每个epoch在验证集上的准确率\n",
    "test_acc_list = [] # 记录每个epoch在测试集上的准确率\n",
    "\n",
    "epoch0_val_acc_list = [] # 记录第0个epoch在验证集上的准确率\n",
    "epoch0_test_acc_list = [] # 记录第0个epoch在测试集上的准确率\n",
    "batch_num_list = [] # 记录第0个epoch中被处理的批次数\n",
    "\n",
    "for epoch in range(EPOCH_NUM): # 迭代训练多个epochs\n",
    "    epoch_loss = 0 # 用于记录每个epoch的损失值\n",
    "    for index, (imgs, labels) in enumerate(train_loader, 0): # 遍历训练数据集\n",
    "        if epoch == 0 and index % 20 == 0:\n",
    "            batch_num_list.append(index)\n",
    "            eval_model(net=net, epoch=epoch, acc_list=epoch0_val_acc_list, is_validation=True, is_print=False) # 在验证集上进行测试\n",
    "            eval_model(net=net, epoch=epoch, acc_list=epoch0_test_acc_list, is_validation=False, is_print=False) # 在测试集上进行测试\n",
    "        optimizer.zero_grad() # 梯度清零，防止梯度累积\n",
    "        ouputs = net(imgs) # 前向传播计算输出\n",
    "        loss = criterion(ouputs, labels) # 计算损失值\n",
    "        loss.backward() # 反向传播计算梯度\n",
    "        optimizer.step() # 根据梯度更新模型参数\n",
    "        epoch_loss += loss.item() # 累加损失值\n",
    "    epoch_loss_list.append(epoch_loss)\n",
    "    print(f\"epoch {epoch} over, epoch_loss = {epoch_loss}\") # 打印当前epoch的索引和损失值\n",
    "\n",
    "    eval_model(net=net, epoch=epoch, acc_list=val_acc_list, is_validation=True, is_print=True) # 在验证集上进行测试\n",
    "\n",
    "    eval_model(net=net, epoch=epoch, acc_list=test_acc_list, is_validation=False, is_print=True) # 在测试集上进行测试"
   ]
  },
  {
   "attachments": {},
   "cell_type": "markdown",
   "metadata": {},
   "source": [
    "## 4 性能分析"
   ]
  },
  {
   "attachments": {},
   "cell_type": "markdown",
   "metadata": {},
   "source": [
    "### 4.1 损失值关于epoch的变化曲线"
   ]
  },
  {
   "cell_type": "code",
   "execution_count": null,
   "metadata": {},
   "outputs": [],
   "source": [
    "# 绘制损失变化曲线\n",
    "plt.figure()\n",
    "plt.plot(epoch_loss_list)\n",
    "plt.xlabel('Epoch')\n",
    "plt.ylabel('Loss')\n",
    "plt.title('Training Loss')\n",
    "plt.show()"
   ]
  },
  {
   "attachments": {},
   "cell_type": "markdown",
   "metadata": {},
   "source": [
    "### 4.2 验证集、测试集准确率关于epoch的变化曲线"
   ]
  },
  {
   "cell_type": "code",
   "execution_count": null,
   "metadata": {},
   "outputs": [],
   "source": [
    "# 绘制准确率变化曲线\n",
    "plt.figure()\n",
    "plt.plot(range(len(val_acc_list)), val_acc_list, label='Val Acc')\n",
    "plt.plot(range(len(test_acc_list)), test_acc_list, label='Test Acc')\n",
    "plt.xlabel('Epoch')\n",
    "plt.ylabel('Acc')\n",
    "plt.title('Training Progress')\n",
    "plt.legend()\n",
    "plt.show()"
   ]
  },
  {
   "attachments": {},
   "cell_type": "markdown",
   "metadata": {},
   "source": [
    "### 4.3 第0个epoch的准确率关于batch数的变化曲线"
   ]
  },
  {
   "cell_type": "code",
   "execution_count": null,
   "metadata": {},
   "outputs": [],
   "source": [
    "# 绘制准确率变化曲线\n",
    "plt.figure()\n",
    "plt.plot(batch_num_list, epoch0_val_acc_list, label='Val Acc (epoch 0)')\n",
    "plt.plot(batch_num_list, epoch0_test_acc_list, label='Test Acc (epoch 0)')\n",
    "plt.xlabel('Batch Num')\n",
    "plt.ylabel('Acc')\n",
    "plt.title('Training Progress')\n",
    "plt.legend()\n",
    "plt.show()"
   ]
  }
 ],
 "metadata": {
  "kernelspec": {
   "display_name": "cv_hw",
   "language": "python",
   "name": "python3"
  },
  "language_info": {
   "codemirror_mode": {
    "name": "ipython",
    "version": 3
   },
   "file_extension": ".py",
   "mimetype": "text/x-python",
   "name": "python",
   "nbconvert_exporter": "python",
   "pygments_lexer": "ipython3",
   "version": "3.11.3"
  },
  "orig_nbformat": 4
 },
 "nbformat": 4,
 "nbformat_minor": 2
}
